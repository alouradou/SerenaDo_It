{
 "cells": [
  {
   "cell_type": "code",
   "execution_count": 1,
   "id": "initial_id",
   "metadata": {
    "collapsed": true,
    "ExecuteTime": {
     "end_time": "2023-12-28T21:04:20.209041Z",
     "start_time": "2023-12-28T21:04:13.701119Z"
    }
   },
   "outputs": [],
   "source": [
    "from src.data_manager import DataManager\n",
    "\n",
    "sheet_id = \"***REMOVED***\"\n",
    "\n",
    "data_manager = DataManager(sheet_id, sheet_name=\"***REMOVED***\")\n",
    "\n",
    "df = data_manager.excel_to_dataframe(\"***REMOVED***\")"
   ]
  },
  {
   "cell_type": "code",
   "outputs": [
    {
     "data": {
      "text/plain": "       NaN  NaN           Semaine,du           Semaine,au      Lundi,8h-9h  \\\n0      Ors  NaN              Semaine              Semaine            Lundi   \n1     None  NaN                   du                   au            8h-9h   \n2  temps 1  NaN  2023-08-28 00:00:00  2023-09-01 00:00:00             None   \n3  temps 1  NaN  2023-09-04 00:00:00  2023-09-08 00:00:00  tronc commun 3A   \n4  temps 1  1.0  2023-09-11 00:00:00  2023-09-15 00:00:00             None   \n\n      Lundi,9h-10h             Lundi,10h-11h           Lundi,11h-12h15  \\\n0            Lundi                     Lundi                     Lundi   \n1           9h-10h                   10h-11h                 11h-12h15   \n2             None                      None                      None   \n3  tronc commun 3A           tronc commun 3A           tronc commun 3A   \n4             None  Bonjour !\\n(FB--LP)\\n218  Bonjour !\\n(FB--LP)\\n218   \n\n                                 Lundi,14h-15h  \\\n0                                        Lundi   \n1                                      14h-15h   \n2                                         None   \n3                              tronc commun 3A   \n4  TC1 : Agilité\\n(Florian Magnani)\\nVisio/218   \n\n                                 Lundi,15h-16h  ... Jeudi,16h15-17h15  \\\n0                                        Lundi  ...             Jeudi   \n1                                      15h-16h  ...       16h15-17h15   \n2                                         None  ...              None   \n3                              tronc commun 3A  ...   tronc commun 3A   \n4  TC1 : Agilité\\n(Florian Magnani)\\nVisio/218  ...              None   \n\n  Jeudi,17h15-18h15                                     Vendredi,8h-9h  \\\n0             Jeudi                                           Vendredi   \n1       17h15-18h15                                              8h-9h   \n2              None                                               None   \n3   tronc commun 3A                                    tronc commun 3A   \n4              None  TC1 : Service Design (Démarrage à 8h45)\\n(Ores...   \n\n                                     Vendredi,9h-10h  \\\n0                                           Vendredi   \n1                                             9h-10h   \n2                                               None   \n3                                    tronc commun 3A   \n4  TC1 : Service Design (Démarrage à 8h45)\\n(Ores...   \n\n                                    Vendredi,10h-11h  \\\n0                                           Vendredi   \n1                                            10h-11h   \n2                                               None   \n3                                    tronc commun 3A   \n4  TC1 : Service Design (Démarrage à 8h45)\\n(Ores...   \n\n                                  Vendredi,11h-12h15         Vendredi,14h-15h  \\\n0                                           Vendredi                 Vendredi   \n1                                          11h-12h15                  14h-15h   \n2                                               None  rentrée\\nadministrative   \n3                                    tronc commun 3A          tronc commun 3A   \n4  TC1 : Service Design (Démarrage à 8h45)\\n(Ores...    POK&MON\\n(FB-LP)\\n218   \n\n          Vendredi,15h-16h Vendredi,16h15-17h15 Vendredi,17h15-18h15  \n0                 Vendredi             Vendredi             Vendredi  \n1                  15h-16h          16h15-17h15          17h15-18h15  \n2  rentrée\\nadministrative                 None                 None  \n3          tronc commun 3A      tronc commun 3A      tronc commun 3A  \n4    POK&MON\\n(FB-LP)\\n218                 None                 None  \n\n[5 rows x 44 columns]",
      "text/html": "<div>\n<style scoped>\n    .dataframe tbody tr th:only-of-type {\n        vertical-align: middle;\n    }\n\n    .dataframe tbody tr th {\n        vertical-align: top;\n    }\n\n    .dataframe thead th {\n        text-align: right;\n    }\n</style>\n<table border=\"1\" class=\"dataframe\">\n  <thead>\n    <tr style=\"text-align: right;\">\n      <th></th>\n      <th>NaN</th>\n      <th>NaN</th>\n      <th>Semaine,du</th>\n      <th>Semaine,au</th>\n      <th>Lundi,8h-9h</th>\n      <th>Lundi,9h-10h</th>\n      <th>Lundi,10h-11h</th>\n      <th>Lundi,11h-12h15</th>\n      <th>Lundi,14h-15h</th>\n      <th>Lundi,15h-16h</th>\n      <th>...</th>\n      <th>Jeudi,16h15-17h15</th>\n      <th>Jeudi,17h15-18h15</th>\n      <th>Vendredi,8h-9h</th>\n      <th>Vendredi,9h-10h</th>\n      <th>Vendredi,10h-11h</th>\n      <th>Vendredi,11h-12h15</th>\n      <th>Vendredi,14h-15h</th>\n      <th>Vendredi,15h-16h</th>\n      <th>Vendredi,16h15-17h15</th>\n      <th>Vendredi,17h15-18h15</th>\n    </tr>\n  </thead>\n  <tbody>\n    <tr>\n      <th>0</th>\n      <td>Ors</td>\n      <td>NaN</td>\n      <td>Semaine</td>\n      <td>Semaine</td>\n      <td>Lundi</td>\n      <td>Lundi</td>\n      <td>Lundi</td>\n      <td>Lundi</td>\n      <td>Lundi</td>\n      <td>Lundi</td>\n      <td>...</td>\n      <td>Jeudi</td>\n      <td>Jeudi</td>\n      <td>Vendredi</td>\n      <td>Vendredi</td>\n      <td>Vendredi</td>\n      <td>Vendredi</td>\n      <td>Vendredi</td>\n      <td>Vendredi</td>\n      <td>Vendredi</td>\n      <td>Vendredi</td>\n    </tr>\n    <tr>\n      <th>1</th>\n      <td>None</td>\n      <td>NaN</td>\n      <td>du</td>\n      <td>au</td>\n      <td>8h-9h</td>\n      <td>9h-10h</td>\n      <td>10h-11h</td>\n      <td>11h-12h15</td>\n      <td>14h-15h</td>\n      <td>15h-16h</td>\n      <td>...</td>\n      <td>16h15-17h15</td>\n      <td>17h15-18h15</td>\n      <td>8h-9h</td>\n      <td>9h-10h</td>\n      <td>10h-11h</td>\n      <td>11h-12h15</td>\n      <td>14h-15h</td>\n      <td>15h-16h</td>\n      <td>16h15-17h15</td>\n      <td>17h15-18h15</td>\n    </tr>\n    <tr>\n      <th>2</th>\n      <td>temps 1</td>\n      <td>NaN</td>\n      <td>2023-08-28 00:00:00</td>\n      <td>2023-09-01 00:00:00</td>\n      <td>None</td>\n      <td>None</td>\n      <td>None</td>\n      <td>None</td>\n      <td>None</td>\n      <td>None</td>\n      <td>...</td>\n      <td>None</td>\n      <td>None</td>\n      <td>None</td>\n      <td>None</td>\n      <td>None</td>\n      <td>None</td>\n      <td>rentrée\\nadministrative</td>\n      <td>rentrée\\nadministrative</td>\n      <td>None</td>\n      <td>None</td>\n    </tr>\n    <tr>\n      <th>3</th>\n      <td>temps 1</td>\n      <td>NaN</td>\n      <td>2023-09-04 00:00:00</td>\n      <td>2023-09-08 00:00:00</td>\n      <td>tronc commun 3A</td>\n      <td>tronc commun 3A</td>\n      <td>tronc commun 3A</td>\n      <td>tronc commun 3A</td>\n      <td>tronc commun 3A</td>\n      <td>tronc commun 3A</td>\n      <td>...</td>\n      <td>tronc commun 3A</td>\n      <td>tronc commun 3A</td>\n      <td>tronc commun 3A</td>\n      <td>tronc commun 3A</td>\n      <td>tronc commun 3A</td>\n      <td>tronc commun 3A</td>\n      <td>tronc commun 3A</td>\n      <td>tronc commun 3A</td>\n      <td>tronc commun 3A</td>\n      <td>tronc commun 3A</td>\n    </tr>\n    <tr>\n      <th>4</th>\n      <td>temps 1</td>\n      <td>1.0</td>\n      <td>2023-09-11 00:00:00</td>\n      <td>2023-09-15 00:00:00</td>\n      <td>None</td>\n      <td>None</td>\n      <td>Bonjour !\\n(FB--LP)\\n218</td>\n      <td>Bonjour !\\n(FB--LP)\\n218</td>\n      <td>TC1 : Agilité\\n(Florian Magnani)\\nVisio/218</td>\n      <td>TC1 : Agilité\\n(Florian Magnani)\\nVisio/218</td>\n      <td>...</td>\n      <td>None</td>\n      <td>None</td>\n      <td>TC1 : Service Design (Démarrage à 8h45)\\n(Ores...</td>\n      <td>TC1 : Service Design (Démarrage à 8h45)\\n(Ores...</td>\n      <td>TC1 : Service Design (Démarrage à 8h45)\\n(Ores...</td>\n      <td>TC1 : Service Design (Démarrage à 8h45)\\n(Ores...</td>\n      <td>POK&amp;MON\\n(FB-LP)\\n218</td>\n      <td>POK&amp;MON\\n(FB-LP)\\n218</td>\n      <td>None</td>\n      <td>None</td>\n    </tr>\n  </tbody>\n</table>\n<p>5 rows × 44 columns</p>\n</div>"
     },
     "execution_count": 2,
     "metadata": {},
     "output_type": "execute_result"
    }
   ],
   "source": [
    "df.head()"
   ],
   "metadata": {
    "collapsed": false,
    "ExecuteTime": {
     "end_time": "2023-12-28T21:04:20.290546Z",
     "start_time": "2023-12-28T21:04:20.222305Z"
    }
   },
   "id": "6c5d0d721d8a3f4a",
   "execution_count": 2
  },
  {
   "cell_type": "code",
   "outputs": [],
   "source": [
    "from datetime import datetime, timedelta\n",
    "import pandas as pd\n",
    "\n",
    "def select_week_from_date(df, date):\n",
    "    col_from = pd.to_datetime(df[\"Semaine,du\"], format=\"%Y-%m-%d\", errors='coerce')\n",
    "    col_to = pd.to_datetime(df[\"Semaine,au\"], format=\"%Y-%m-%d\", errors='coerce')\n",
    "\n",
    "    selected_row = df.loc[(col_from <= date) & (date - timedelta(days=2) <= col_to)]\n",
    "    \n",
    "    return selected_row"
   ],
   "metadata": {
    "collapsed": false,
    "ExecuteTime": {
     "end_time": "2023-12-28T21:04:20.291826Z",
     "start_time": "2023-12-28T21:04:20.279364Z"
    }
   },
   "id": "cbbe194a92b45429",
   "execution_count": 3
  },
  {
   "cell_type": "code",
   "outputs": [
    {
     "data": {
      "text/plain": "        NaN  NaN           Semaine,du           Semaine,au Lundi,8h-9h  \\\n17  temps 2  4.0  2023-12-11 00:00:00  2023-12-15 00:00:00        None   \n\n                             Lundi,9h-10h  \\\n17  Java/ gradle\\n (Julien Candela)\\n 218   \n\n                            Lundi,10h-11h  \\\n17  Java/ gradle\\n (Julien Candela)\\n 218   \n\n                          Lundi,11h-12h15  \\\n17  Java/ gradle\\n (Julien Candela)\\n 218   \n\n                             Lundi,14h-15h  \\\n17  Stratégje & SI\\n (Laetitia PIET)\\n 200   \n\n                             Lundi,15h-16h  ...  \\\n17  Stratégje & SI\\n (Laetitia PIET)\\n 200  ...   \n\n                         Jeudi,16h15-17h15 Jeudi,17h15-18h15 Vendredi,8h-9h  \\\n17  Stratégje & SI\\n (Laetitia PIET)\\n 217              None           None   \n\n                           Vendredi,9h-10h  \\\n17  Conception SI\\n (Camille Girard)\\n 219   \n\n                          Vendredi,10h-11h  \\\n17  Conception SI\\n (Camille Girard)\\n 219   \n\n                        Vendredi,11h-12h15 Vendredi,14h-15h Vendredi,15h-16h  \\\n17  Conception SI\\n (Camille Girard)\\n 219             None             None   \n\n   Vendredi,16h15-17h15 Vendredi,17h15-18h15  \n17                 None                 None  \n\n[1 rows x 44 columns]",
      "text/html": "<div>\n<style scoped>\n    .dataframe tbody tr th:only-of-type {\n        vertical-align: middle;\n    }\n\n    .dataframe tbody tr th {\n        vertical-align: top;\n    }\n\n    .dataframe thead th {\n        text-align: right;\n    }\n</style>\n<table border=\"1\" class=\"dataframe\">\n  <thead>\n    <tr style=\"text-align: right;\">\n      <th></th>\n      <th>NaN</th>\n      <th>NaN</th>\n      <th>Semaine,du</th>\n      <th>Semaine,au</th>\n      <th>Lundi,8h-9h</th>\n      <th>Lundi,9h-10h</th>\n      <th>Lundi,10h-11h</th>\n      <th>Lundi,11h-12h15</th>\n      <th>Lundi,14h-15h</th>\n      <th>Lundi,15h-16h</th>\n      <th>...</th>\n      <th>Jeudi,16h15-17h15</th>\n      <th>Jeudi,17h15-18h15</th>\n      <th>Vendredi,8h-9h</th>\n      <th>Vendredi,9h-10h</th>\n      <th>Vendredi,10h-11h</th>\n      <th>Vendredi,11h-12h15</th>\n      <th>Vendredi,14h-15h</th>\n      <th>Vendredi,15h-16h</th>\n      <th>Vendredi,16h15-17h15</th>\n      <th>Vendredi,17h15-18h15</th>\n    </tr>\n  </thead>\n  <tbody>\n    <tr>\n      <th>17</th>\n      <td>temps 2</td>\n      <td>4.0</td>\n      <td>2023-12-11 00:00:00</td>\n      <td>2023-12-15 00:00:00</td>\n      <td>None</td>\n      <td>Java/ gradle\\n (Julien Candela)\\n 218</td>\n      <td>Java/ gradle\\n (Julien Candela)\\n 218</td>\n      <td>Java/ gradle\\n (Julien Candela)\\n 218</td>\n      <td>Stratégje &amp; SI\\n (Laetitia PIET)\\n 200</td>\n      <td>Stratégje &amp; SI\\n (Laetitia PIET)\\n 200</td>\n      <td>...</td>\n      <td>Stratégje &amp; SI\\n (Laetitia PIET)\\n 217</td>\n      <td>None</td>\n      <td>None</td>\n      <td>Conception SI\\n (Camille Girard)\\n 219</td>\n      <td>Conception SI\\n (Camille Girard)\\n 219</td>\n      <td>Conception SI\\n (Camille Girard)\\n 219</td>\n      <td>None</td>\n      <td>None</td>\n      <td>None</td>\n      <td>None</td>\n    </tr>\n  </tbody>\n</table>\n<p>1 rows × 44 columns</p>\n</div>"
     },
     "execution_count": 4,
     "metadata": {},
     "output_type": "execute_result"
    }
   ],
   "source": [
    "line = select_week_from_date(df, datetime(2023, 12, 13))\n",
    "line"
   ],
   "metadata": {
    "collapsed": false,
    "ExecuteTime": {
     "end_time": "2023-12-28T21:04:20.420547Z",
     "start_time": "2023-12-28T21:04:20.320819Z"
    }
   },
   "id": "7cbf600fd8eb8f30",
   "execution_count": 4
  },
  {
   "cell_type": "code",
   "outputs": [
    {
     "name": "stdout",
     "output_type": "stream",
     "text": [
      "list index out of range\n",
      "list index out of range\n",
      "time data 'du' does not match format '%Hh%M'\n",
      "time data 'au' does not match format '%Hh%M'\n",
      "2023-12-11 09:00:00 2023-12-11 11:00:00\n",
      "2023-12-11 09:00:00 2023-12-11 12:15:00\n",
      "2023-12-11 14:00:00 2023-12-11 16:00:00\n",
      "2023-12-11 14:00:00 2023-12-11 17:15:00\n",
      "2023-12-12 08:00:00 2023-12-12 10:00:00\n",
      "2023-12-12 08:00:00 2023-12-12 11:15:00\n",
      "2023-12-12 08:00:00 2023-12-12 12:15:00\n",
      "2023-12-12 14:00:00 2023-12-12 16:00:00\n",
      "2023-12-12 14:00:00 2023-12-12 17:15:00\n",
      "2023-12-12 14:00:00 2023-12-12 18:15:00\n",
      "2023-12-13 08:00:00 2023-12-13 10:00:00\n",
      "2023-12-13 10:00:00 2023-12-13 12:15:00\n",
      "2023-12-13 14:00:00 2023-12-13 16:00:00\n",
      "2023-12-13 16:15:00 2023-12-13 18:15:00\n",
      "2023-12-14 09:00:00 2023-12-14 11:00:00\n",
      "2023-12-14 09:00:00 2023-12-14 12:15:00\n",
      "2023-12-14 14:00:00 2023-12-14 16:00:00\n",
      "2023-12-14 14:00:00 2023-12-14 17:15:00\n",
      "2023-12-15 09:00:00 2023-12-15 11:00:00\n",
      "2023-12-15 09:00:00 2023-12-15 12:15:00\n",
      "2023-12-15 14:00:00 2023-12-15 16:00:00\n",
      "2023-12-15 14:00:00 2023-12-15 17:15:00\n",
      "2023-12-15 14:00:00 2023-12-15 18:15:00\n"
     ]
    }
   ],
   "source": [
    "from src.course import Course\n",
    "\n",
    "week_start_date = line[\"Semaine,du\"].values[0]\n",
    "\n",
    "jours_vers_chiffres = {\n",
    "    \"Lundi\": 0,\n",
    "    \"Mardi\": 1,\n",
    "    \"Mercredi\": 2,\n",
    "    \"Jeudi\": 3,\n",
    "    \"Vendredi\": 4,\n",
    "    \"Samedi\": 5,\n",
    "    \"Dimanche\": 6\n",
    "}\n",
    "\n",
    "def get_date_from_day_of_week(week_start_date, day_of_week):\n",
    "    try:\n",
    "        return week_start_date + timedelta(days=jours_vers_chiffres[day_of_week])\n",
    "    except KeyError:\n",
    "        return None\n",
    "\n",
    "# Transforms a string like \"8h\" or \"8h30\" into a time object\n",
    "def translate_to_time(time_str):\n",
    "    time_format = \"%Hh%M\"\n",
    "\n",
    "    if time_str.endswith('h'):\n",
    "        time_str = time_str + '00'\n",
    "\n",
    "    translated_time = datetime.strptime(time_str, time_format).time()\n",
    "\n",
    "    return translated_time\n",
    "\n",
    "previous_course = Course()\n",
    "\n",
    "def is_course_continuation(previous, current):\n",
    "    if (previous.description == current.description \n",
    "            and (current.start - previous.end <= timedelta(minutes=30))):\n",
    "        return True\n",
    "    else:\n",
    "        return False\n",
    "\n",
    "course_list = []\n",
    "\n",
    "for col in line:\n",
    "    current_course = Course()\n",
    "    current_course.description = line[col].values[0]\n",
    "    \n",
    "    # Splitting the header to get the day of the week and the time\n",
    "    split = str(col).split(\",\")\n",
    "    \n",
    "    try:\n",
    "        week_day = split[0]\n",
    "        time = split[1].split(\"-\")\n",
    "        \n",
    "        start_time = translate_to_time(time[0])\n",
    "        end_time = translate_to_time(time[1])\n",
    "        \n",
    "        date = get_date_from_day_of_week(week_start_date,week_day)\n",
    "        \n",
    "        # Merge date and time\n",
    "        current_course.start = datetime.combine(date, start_time)\n",
    "        current_course.end = datetime.combine(date, end_time)\n",
    "        \n",
    "        \n",
    "        if is_course_continuation(previous_course, current_course):\n",
    "            current_course.start = previous_course.start\n",
    "            print(current_course.start, current_course.end)\n",
    "        else:\n",
    "            course_list.append(previous_course)\n",
    "        previous_course = current_course\n",
    "    except Exception as e:\n",
    "        print(e)\n",
    "    "
   ],
   "metadata": {
    "collapsed": false,
    "ExecuteTime": {
     "end_time": "2023-12-28T21:05:05.982438Z",
     "start_time": "2023-12-28T21:05:05.954299Z"
    }
   },
   "id": "1e79d957711b3755",
   "execution_count": 7
  },
  {
   "cell_type": "code",
   "outputs": [
    {
     "data": {
      "text/plain": "['Course:  (None - None)',\n 'Course: None (2023-12-11 08:00:00 - 2023-12-11 09:00:00)',\n 'Course: Java/ gradle\\n (Julien Candela)\\n 218 (2023-12-11 09:00:00 - 2023-12-11 12:15:00)',\n 'Course: Stratégje & SI\\n (Laetitia PIET)\\n 200 (2023-12-11 14:00:00 - 2023-12-11 17:15:00)',\n 'Course: None (2023-12-11 17:15:00 - 2023-12-11 18:15:00)',\n 'Course: Langues (2023-12-12 08:00:00 - 2023-12-12 12:15:00)',\n 'Course: Projet 3A (2023-12-12 14:00:00 - 2023-12-12 18:15:00)',\n 'Course: None (2023-12-13 08:00:00 - 2023-12-13 10:00:00)',\n 'Course: point POK sprint 1\\n (FB-FM)\\n 218 (2023-12-13 10:00:00 - 2023-12-13 12:15:00)',\n 'Course: prez MON 1 (13h30-15h30)\\n (FM-LP)\\n 218 (2023-12-13 14:00:00 - 2023-12-13 16:00:00)',\n 'Course: None (2023-12-13 16:15:00 - 2023-12-13 18:15:00)',\n 'Course: None (2023-12-14 08:00:00 - 2023-12-14 09:00:00)',\n 'Course: Stratégje & SI\\n (Laetitia PIET)\\n 231 (2023-12-14 09:00:00 - 2023-12-14 12:15:00)',\n 'Course: Stratégje & SI\\n (Laetitia PIET)\\n 217 (2023-12-14 14:00:00 - 2023-12-14 17:15:00)',\n 'Course: None (2023-12-14 17:15:00 - 2023-12-14 18:15:00)',\n 'Course: None (2023-12-15 08:00:00 - 2023-12-15 09:00:00)',\n 'Course: Conception SI\\n (Camille Girard)\\n 219 (2023-12-15 09:00:00 - 2023-12-15 12:15:00)']"
     },
     "execution_count": 8,
     "metadata": {},
     "output_type": "execute_result"
    }
   ],
   "source": [
    "[str(course_list[i]) for i in range(len(course_list))]"
   ],
   "metadata": {
    "collapsed": false,
    "ExecuteTime": {
     "end_time": "2023-12-28T21:05:06.351283Z",
     "start_time": "2023-12-28T21:05:06.315668Z"
    }
   },
   "id": "2d74040a94895fa",
   "execution_count": 8
  }
 ],
 "metadata": {
  "kernelspec": {
   "display_name": "Python 3",
   "language": "python",
   "name": "python3"
  },
  "language_info": {
   "codemirror_mode": {
    "name": "ipython",
    "version": 2
   },
   "file_extension": ".py",
   "mimetype": "text/x-python",
   "name": "python",
   "nbconvert_exporter": "python",
   "pygments_lexer": "ipython2",
   "version": "2.7.6"
  }
 },
 "nbformat": 4,
 "nbformat_minor": 5
}
