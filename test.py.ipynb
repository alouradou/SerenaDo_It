{
 "cells": [
  {
   "cell_type": "code",
   "execution_count": 1,
   "id": "initial_id",
   "metadata": {
    "collapsed": true,
    "ExecuteTime": {
     "end_time": "2023-12-29T12:35:25.200010Z",
     "start_time": "2023-12-29T12:35:17.622069Z"
    }
   },
   "outputs": [],
   "source": [
    "from src.data_manager import DataManager\n",
    "\n",
    "sheet_id = \"***REMOVED***\"\n",
    "\n",
    "data_manager = DataManager(sheet_id, sheet_name=\"***REMOVED***\")\n",
    "\n",
    "df = data_manager.excel_to_dataframe(\"***REMOVED***\")"
   ]
  },
  {
   "cell_type": "code",
   "outputs": [],
   "source": [
    "from datetime import datetime, timedelta\n",
    "import pandas as pd\n",
    "\n",
    "from src.parse_excel_line import ParseExcelLine\n",
    "\n",
    "line_parser = ParseExcelLine(df, datetime(2024, 1, 15))\n",
    "line_parser.parse()"
   ],
   "metadata": {
    "collapsed": false,
    "ExecuteTime": {
     "end_time": "2023-12-29T12:35:25.262558Z",
     "start_time": "2023-12-29T12:35:25.206835Z"
    }
   },
   "id": "adf3ed54a52d12bc",
   "execution_count": 2
  },
  {
   "cell_type": "code",
   "outputs": [],
   "source": [
    "from src.calendar_manager import CalendarManager\n",
    "\n",
    "cal = CalendarManager(line_parser.course_list)\n",
    "cal.browse_course_list()"
   ],
   "metadata": {
    "collapsed": false,
    "ExecuteTime": {
     "end_time": "2023-12-29T12:35:25.289486Z",
     "start_time": "2023-12-29T12:35:25.257576Z"
    }
   },
   "id": "4c8fd3cd743a3f3e",
   "execution_count": 3
  }
 ],
 "metadata": {
  "kernelspec": {
   "display_name": "Python 3",
   "language": "python",
   "name": "python3"
  },
  "language_info": {
   "codemirror_mode": {
    "name": "ipython",
    "version": 2
   },
   "file_extension": ".py",
   "mimetype": "text/x-python",
   "name": "python",
   "nbconvert_exporter": "python",
   "pygments_lexer": "ipython2",
   "version": "2.7.6"
  }
 },
 "nbformat": 4,
 "nbformat_minor": 5
}
