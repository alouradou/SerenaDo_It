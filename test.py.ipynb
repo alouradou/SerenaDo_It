{
 "cells": [
  {
   "cell_type": "code",
   "execution_count": 1,
   "id": "initial_id",
   "metadata": {
    "collapsed": true,
    "ExecuteTime": {
     "end_time": "2023-12-29T12:21:56.266502Z",
     "start_time": "2023-12-29T12:21:49.104714Z"
    }
   },
   "outputs": [],
   "source": [
    "from src.data_manager import DataManager\n",
    "\n",
    "sheet_id = \"***REMOVED***\"\n",
    "\n",
    "data_manager = DataManager(sheet_id, sheet_name=\"***REMOVED***\")\n",
    "\n",
    "df = data_manager.excel_to_dataframe(\"***REMOVED***\")"
   ]
  },
  {
   "cell_type": "code",
   "outputs": [
    {
     "name": "stdout",
     "output_type": "stream",
     "text": [
      "Index error list index out of range\n",
      "Index error list index out of range\n"
     ]
    }
   ],
   "source": [
    "from datetime import datetime, timedelta\n",
    "import pandas as pd\n",
    "\n",
    "from src.parse_excel_line import ParseExcelLine\n",
    "\n",
    "line_parser = ParseExcelLine(df, datetime(2024, 1, 15))\n",
    "line_parser.parse()"
   ],
   "metadata": {
    "collapsed": false,
    "ExecuteTime": {
     "end_time": "2023-12-29T12:21:56.329037Z",
     "start_time": "2023-12-29T12:21:56.273147Z"
    }
   },
   "id": "adf3ed54a52d12bc",
   "execution_count": 2
  },
  {
   "cell_type": "code",
   "outputs": [],
   "source": [
    "def select_week_from_date(df, date):\n",
    "    col_from = pd.to_datetime(df[\"Semaine,du\"], format=\"%Y-%m-%d\", errors='coerce')\n",
    "    col_to = pd.to_datetime(df[\"Semaine,au\"], format=\"%Y-%m-%d\", errors='coerce')\n",
    "\n",
    "    selected_row = df.loc[(col_from <= date) & (date - timedelta(days=2) <= col_to)]\n",
    "    \n",
    "    return selected_row"
   ],
   "metadata": {
    "collapsed": false,
    "ExecuteTime": {
     "end_time": "2023-12-28T21:04:20.291826Z",
     "start_time": "2023-12-28T21:04:20.279364Z"
    }
   },
   "id": "cbbe194a92b45429",
   "execution_count": 3
  },
  {
   "cell_type": "code",
   "outputs": [
    {
     "data": {
      "text/plain": "        NaN  NaN           Semaine,du           Semaine,au Lundi,8h-9h  \\\n22  temps 2  6.0  2024-01-15 00:00:00  2024-01-19 00:00:00        None   \n\n                             Lundi,9h-10h  \\\n22  Java/ gradle\\n (Julien Candela)\\n 218   \n\n                            Lundi,10h-11h  \\\n22  Java/ gradle\\n (Julien Candela)\\n 218   \n\n                          Lundi,11h-12h15  \\\n22  Java/ gradle\\n (Julien Candela)\\n 218   \n\n                            Lundi,14h-15h  \\\n22  Java/ gradle\\n (Julien Candela)\\n 218   \n\n                            Lundi,15h-16h  ...  \\\n22  Java/ gradle\\n (Julien Candela)\\n 218  ...   \n\n                                   Jeudi,16h15-17h15 Jeudi,17h15-18h15  \\\n22  Equipe performante\\n (Leonardo Santarelli)\\n 210              None   \n\n   Vendredi,8h-9h                                   Vendredi,9h-10h  \\\n22           None  Equipe performante\\n (Leonardo Santarelli)\\n 218   \n\n                                    Vendredi,10h-11h  \\\n22  Equipe performante\\n (Leonardo Santarelli)\\n 218   \n\n                                  Vendredi,11h-12h15  \\\n22  Equipe performante\\n (Leonardo Santarelli)\\n 218   \n\n                                    Vendredi,14h-15h  \\\n22  Equipe performante\\n (Leonardo Santarelli)\\n 218   \n\n                                    Vendredi,15h-16h  \\\n22  Equipe performante\\n (Leonardo Santarelli)\\n 218   \n\n                                Vendredi,16h15-17h15  \\\n22  Equipe performante\\n (Leonardo Santarelli)\\n 218   \n\n                                Vendredi,17h15-18h15  \n22  Equipe performante\\n (Leonardo Santarelli)\\n 218  \n\n[1 rows x 44 columns]",
      "text/html": "<div>\n<style scoped>\n    .dataframe tbody tr th:only-of-type {\n        vertical-align: middle;\n    }\n\n    .dataframe tbody tr th {\n        vertical-align: top;\n    }\n\n    .dataframe thead th {\n        text-align: right;\n    }\n</style>\n<table border=\"1\" class=\"dataframe\">\n  <thead>\n    <tr style=\"text-align: right;\">\n      <th></th>\n      <th>NaN</th>\n      <th>NaN</th>\n      <th>Semaine,du</th>\n      <th>Semaine,au</th>\n      <th>Lundi,8h-9h</th>\n      <th>Lundi,9h-10h</th>\n      <th>Lundi,10h-11h</th>\n      <th>Lundi,11h-12h15</th>\n      <th>Lundi,14h-15h</th>\n      <th>Lundi,15h-16h</th>\n      <th>...</th>\n      <th>Jeudi,16h15-17h15</th>\n      <th>Jeudi,17h15-18h15</th>\n      <th>Vendredi,8h-9h</th>\n      <th>Vendredi,9h-10h</th>\n      <th>Vendredi,10h-11h</th>\n      <th>Vendredi,11h-12h15</th>\n      <th>Vendredi,14h-15h</th>\n      <th>Vendredi,15h-16h</th>\n      <th>Vendredi,16h15-17h15</th>\n      <th>Vendredi,17h15-18h15</th>\n    </tr>\n  </thead>\n  <tbody>\n    <tr>\n      <th>22</th>\n      <td>temps 2</td>\n      <td>6.0</td>\n      <td>2024-01-15 00:00:00</td>\n      <td>2024-01-19 00:00:00</td>\n      <td>None</td>\n      <td>Java/ gradle\\n (Julien Candela)\\n 218</td>\n      <td>Java/ gradle\\n (Julien Candela)\\n 218</td>\n      <td>Java/ gradle\\n (Julien Candela)\\n 218</td>\n      <td>Java/ gradle\\n (Julien Candela)\\n 218</td>\n      <td>Java/ gradle\\n (Julien Candela)\\n 218</td>\n      <td>...</td>\n      <td>Equipe performante\\n (Leonardo Santarelli)\\n 210</td>\n      <td>None</td>\n      <td>None</td>\n      <td>Equipe performante\\n (Leonardo Santarelli)\\n 218</td>\n      <td>Equipe performante\\n (Leonardo Santarelli)\\n 218</td>\n      <td>Equipe performante\\n (Leonardo Santarelli)\\n 218</td>\n      <td>Equipe performante\\n (Leonardo Santarelli)\\n 218</td>\n      <td>Equipe performante\\n (Leonardo Santarelli)\\n 218</td>\n      <td>Equipe performante\\n (Leonardo Santarelli)\\n 218</td>\n      <td>Equipe performante\\n (Leonardo Santarelli)\\n 218</td>\n    </tr>\n  </tbody>\n</table>\n<p>1 rows × 44 columns</p>\n</div>"
     },
     "execution_count": 12,
     "metadata": {},
     "output_type": "execute_result"
    }
   ],
   "source": [
    "line = select_week_from_date(df, datetime(2024, 1, 15))\n",
    "line"
   ],
   "metadata": {
    "collapsed": false,
    "ExecuteTime": {
     "end_time": "2023-12-29T10:09:57.652065Z",
     "start_time": "2023-12-29T10:09:57.466641Z"
    }
   },
   "id": "7cbf600fd8eb8f30",
   "execution_count": 12
  },
  {
   "cell_type": "code",
   "outputs": [
    {
     "name": "stdout",
     "output_type": "stream",
     "text": [
      "list index out of range\n",
      "list index out of range\n",
      "time data 'du' does not match format '%Hh%M'\n",
      "time data 'au' does not match format '%Hh%M'\n",
      "2024-01-15 09:00:00 2024-01-15 11:00:00\n",
      "2024-01-15 09:00:00 2024-01-15 12:15:00\n",
      "Added Course: Java/ gradle\n",
      " (Julien Candela)\n",
      " 218 (2024-01-15 09:00:00 - 2024-01-15 12:15:00)\n",
      "2024-01-15 14:00:00 2024-01-15 16:00:00\n",
      "2024-01-15 14:00:00 2024-01-15 17:15:00\n",
      "Added Course: Java/ gradle\n",
      " (Julien Candela)\n",
      " 218 (2024-01-15 14:00:00 - 2024-01-15 17:15:00)\n",
      "2024-01-16 08:00:00 2024-01-16 10:00:00\n",
      "2024-01-16 08:00:00 2024-01-16 11:15:00\n",
      "2024-01-16 08:00:00 2024-01-16 12:15:00\n",
      "Added Course: Langues (2024-01-16 08:00:00 - 2024-01-16 12:15:00)\n",
      "2024-01-16 14:00:00 2024-01-16 16:00:00\n",
      "2024-01-16 14:00:00 2024-01-16 17:15:00\n",
      "2024-01-16 14:00:00 2024-01-16 18:15:00\n",
      "Added Course: Projet 3A (2024-01-16 14:00:00 - 2024-01-16 18:15:00)\n",
      "2024-01-17 09:00:00 2024-01-17 11:00:00\n",
      "2024-01-17 09:00:00 2024-01-17 12:15:00\n",
      "Added Course: Conception SI\n",
      " (Clément Sevy)\n",
      " 228 (2024-01-17 09:00:00 - 2024-01-17 12:15:00)\n",
      "2024-01-17 14:00:00 2024-01-17 16:00:00\n",
      "Added Course: point POK sprint 2\n",
      " (FB-FM)\n",
      " 218 (2024-01-17 14:00:00 - 2024-01-17 16:00:00)\n",
      "2024-01-17 16:15:00 2024-01-17 18:15:00\n",
      "Added Course: prez MON 2\n",
      " (FB-LP)\n",
      " 218 (2024-01-17 16:15:00 - 2024-01-17 18:15:00)\n",
      "2024-01-18 09:00:00 2024-01-18 11:00:00\n",
      "2024-01-18 09:00:00 2024-01-18 12:15:00\n",
      "Added Course: Equipe performante\n",
      " (Leonardo Santarelli)\n",
      " 210 (2024-01-18 09:00:00 - 2024-01-18 12:15:00)\n",
      "2024-01-18 14:00:00 2024-01-18 16:00:00\n",
      "2024-01-18 14:00:00 2024-01-18 17:15:00\n",
      "Added Course: Equipe performante\n",
      " (Leonardo Santarelli)\n",
      " 210 (2024-01-18 14:00:00 - 2024-01-18 17:15:00)\n",
      "2024-01-19 09:00:00 2024-01-19 11:00:00\n",
      "2024-01-19 09:00:00 2024-01-19 12:15:00\n",
      "Added Course: Equipe performante\n",
      " (Leonardo Santarelli)\n",
      " 218 (2024-01-19 09:00:00 - 2024-01-19 12:15:00)\n",
      "2024-01-19 14:00:00 2024-01-19 16:00:00\n",
      "2024-01-19 14:00:00 2024-01-19 17:15:00\n",
      "2024-01-19 14:00:00 2024-01-19 18:15:00\n"
     ]
    }
   ],
   "source": [
    "from src.course import Course\n",
    "\n",
    "week_start_date = line[\"Semaine,du\"].values[0]\n",
    "\n",
    "jours_vers_chiffres = {\n",
    "    \"Lundi\": 0,\n",
    "    \"Mardi\": 1,\n",
    "    \"Mercredi\": 2,\n",
    "    \"Jeudi\": 3,\n",
    "    \"Vendredi\": 4,\n",
    "    \"Samedi\": 5,\n",
    "    \"Dimanche\": 6\n",
    "}\n",
    "\n",
    "def get_date_from_day_of_week(week_start_date, day_of_week):\n",
    "    try:\n",
    "        return week_start_date + timedelta(days=jours_vers_chiffres[day_of_week])\n",
    "    except KeyError:\n",
    "        return None\n",
    "\n",
    "# Transforms a string like \"8h\" or \"8h30\" into a time object\n",
    "def translate_to_time(time_str):\n",
    "    time_format = \"%Hh%M\"\n",
    "\n",
    "    if time_str.endswith('h'):\n",
    "        time_str = time_str + '00'\n",
    "\n",
    "    translated_time = datetime.strptime(time_str, time_format).time()\n",
    "\n",
    "    return translated_time\n",
    "\n",
    "previous_course = Course()\n",
    "\n",
    "def is_course_continuation(previous, current):\n",
    "    if (previous.description == current.description \n",
    "            and (current.start - previous.end <= timedelta(minutes=30))):\n",
    "        return True\n",
    "    else:\n",
    "        return False\n",
    "\n",
    "course_list = []\n",
    "\n",
    "for col in line:\n",
    "    current_course = Course()\n",
    "    current_course.description = line[col].values[0]\n",
    "    \n",
    "    # Splitting the header to get the day of the week and the time\n",
    "    split = str(col).split(\",\")\n",
    "    \n",
    "    try:\n",
    "        week_day = split[0]\n",
    "        time = split[1].split(\"-\")\n",
    "        \n",
    "        start_time = translate_to_time(time[0])\n",
    "        end_time = translate_to_time(time[1])\n",
    "        \n",
    "        date = get_date_from_day_of_week(week_start_date,week_day)\n",
    "        \n",
    "        # Merge date and time\n",
    "        current_course.start = datetime.combine(date, start_time)\n",
    "        current_course.end = datetime.combine(date, end_time)\n",
    "        \n",
    "        # If the course is a continuation of the previous one, merge them\n",
    "        if is_course_continuation(previous_course, current_course):\n",
    "            current_course.start = previous_course.start\n",
    "            print(current_course.start, current_course.end)\n",
    "        # Base case: Add only if there is a course to memorize\n",
    "        elif previous_course.description:\n",
    "            print(\"Added \" + str(previous_course))\n",
    "            course_list.append(previous_course)\n",
    "        \n",
    "        previous_course = current_course\n",
    "        \n",
    "    except Exception as e:\n",
    "        print(e)\n",
    "    \n",
    "course_list.append(previous_course)\n"
   ],
   "metadata": {
    "collapsed": false,
    "ExecuteTime": {
     "end_time": "2023-12-29T11:41:45.679300Z",
     "start_time": "2023-12-29T11:41:45.665517Z"
    }
   },
   "id": "1e79d957711b3755",
   "execution_count": 36
  },
  {
   "cell_type": "code",
   "outputs": [
    {
     "data": {
      "text/plain": "['Course: Java/ gradle\\n (Julien Candela)\\n 218 (2024-01-15 09:00:00 - 2024-01-15 12:15:00)',\n 'Course: Java/ gradle\\n (Julien Candela)\\n 218 (2024-01-15 14:00:00 - 2024-01-15 17:15:00)',\n 'Course: Langues (2024-01-16 08:00:00 - 2024-01-16 12:15:00)',\n 'Course: Projet 3A (2024-01-16 14:00:00 - 2024-01-16 18:15:00)',\n 'Course: Conception SI\\n (Clément Sevy)\\n 228 (2024-01-17 09:00:00 - 2024-01-17 12:15:00)',\n 'Course: point POK sprint 2\\n (FB-FM)\\n 218 (2024-01-17 14:00:00 - 2024-01-17 16:00:00)',\n 'Course: prez MON 2\\n (FB-LP)\\n 218 (2024-01-17 16:15:00 - 2024-01-17 18:15:00)',\n 'Course: Equipe performante\\n (Leonardo Santarelli)\\n 210 (2024-01-18 09:00:00 - 2024-01-18 12:15:00)',\n 'Course: Equipe performante\\n (Leonardo Santarelli)\\n 210 (2024-01-18 14:00:00 - 2024-01-18 17:15:00)',\n 'Course: Equipe performante\\n (Leonardo Santarelli)\\n 218 (2024-01-19 09:00:00 - 2024-01-19 12:15:00)',\n 'Course: Equipe performante\\n (Leonardo Santarelli)\\n 218 (2024-01-19 14:00:00 - 2024-01-19 18:15:00)']"
     },
     "execution_count": 37,
     "metadata": {},
     "output_type": "execute_result"
    }
   ],
   "source": [
    "[str(course_list[i]) for i in range(len(course_list))]"
   ],
   "metadata": {
    "collapsed": false,
    "ExecuteTime": {
     "end_time": "2023-12-29T11:41:45.814345Z",
     "start_time": "2023-12-29T11:41:45.787935Z"
    }
   },
   "id": "2d74040a94895fa",
   "execution_count": 37
  }
 ],
 "metadata": {
  "kernelspec": {
   "display_name": "Python 3",
   "language": "python",
   "name": "python3"
  },
  "language_info": {
   "codemirror_mode": {
    "name": "ipython",
    "version": 2
   },
   "file_extension": ".py",
   "mimetype": "text/x-python",
   "name": "python",
   "nbconvert_exporter": "python",
   "pygments_lexer": "ipython2",
   "version": "2.7.6"
  }
 },
 "nbformat": 4,
 "nbformat_minor": 5
}
