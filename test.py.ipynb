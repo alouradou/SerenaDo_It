{
 "cells": [
  {
   "cell_type": "code",
   "execution_count": 1,
   "id": "initial_id",
   "metadata": {
    "collapsed": true,
    "ExecuteTime": {
     "end_time": "2023-12-27T14:19:07.662548Z",
     "start_time": "2023-12-27T14:18:59.338843Z"
    }
   },
   "outputs": [],
   "source": [
    "from src.data_manager import DataManager\n",
    "\n",
    "sheet_id = \"***REMOVED***\"\n",
    "\n",
    "data_manager = DataManager(sheet_id, sheet_name=\"***REMOVED***\")\n",
    "\n",
    "df = data_manager.excel_to_dataframe(\"***REMOVED***\")"
   ]
  },
  {
   "cell_type": "code",
   "outputs": [
    {
     "data": {
      "text/plain": "       NaN  NaN           Semaine,du           Semaine,au      Lundi,8h-9h  \\\n0      Ors  NaN              Semaine              Semaine            Lundi   \n1     None  NaN                   du                   au            8h-9h   \n2  temps 1  NaN  2023-08-28 00:00:00  2023-09-01 00:00:00             None   \n3  temps 1  NaN  2023-09-04 00:00:00  2023-09-08 00:00:00  tronc commun 3A   \n4  temps 1  1.0  2023-09-11 00:00:00  2023-09-15 00:00:00             None   \n\n      Lundi,9h-10h             Lundi,10h-11h           Lundi,11h-12h15  \\\n0            Lundi                     Lundi                     Lundi   \n1           9h-10h                   10h-11h                 11h-12h15   \n2             None                      None                      None   \n3  tronc commun 3A           tronc commun 3A           tronc commun 3A   \n4             None  Bonjour !\\n(FB--LP)\\n218  Bonjour !\\n(FB--LP)\\n218   \n\n                                 Lundi,14h-15h  \\\n0                                        Lundi   \n1                                      14h-15h   \n2                                         None   \n3                              tronc commun 3A   \n4  TC1 : Agilité\\n(Florian Magnani)\\nVisio/218   \n\n                                 Lundi,15h-16h  ... Jeudi,16h15-17h15  \\\n0                                        Lundi  ...             Jeudi   \n1                                      15h-16h  ...       16h15-17h15   \n2                                         None  ...              None   \n3                              tronc commun 3A  ...   tronc commun 3A   \n4  TC1 : Agilité\\n(Florian Magnani)\\nVisio/218  ...              None   \n\n  Jeudi,17h15-18h15                                     Vendredi,8h-9h  \\\n0             Jeudi                                           Vendredi   \n1       17h15-18h15                                              8h-9h   \n2              None                                               None   \n3   tronc commun 3A                                    tronc commun 3A   \n4              None  TC1 : Service Design (Démarrage à 8h45)\\n(Ores...   \n\n                                     Vendredi,9h-10h  \\\n0                                           Vendredi   \n1                                             9h-10h   \n2                                               None   \n3                                    tronc commun 3A   \n4  TC1 : Service Design (Démarrage à 8h45)\\n(Ores...   \n\n                                    Vendredi,10h-11h  \\\n0                                           Vendredi   \n1                                            10h-11h   \n2                                               None   \n3                                    tronc commun 3A   \n4  TC1 : Service Design (Démarrage à 8h45)\\n(Ores...   \n\n                                  Vendredi,11h-12h15         Vendredi,14h-15h  \\\n0                                           Vendredi                 Vendredi   \n1                                          11h-12h15                  14h-15h   \n2                                               None  rentrée\\nadministrative   \n3                                    tronc commun 3A          tronc commun 3A   \n4  TC1 : Service Design (Démarrage à 8h45)\\n(Ores...    POK&MON\\n(FB-LP)\\n218   \n\n          Vendredi,15h-16h Vendredi,16h15-17h15 Vendredi,17h15-18h15  \n0                 Vendredi             Vendredi             Vendredi  \n1                  15h-16h          16h15-17h15          17h15-18h15  \n2  rentrée\\nadministrative                 None                 None  \n3          tronc commun 3A      tronc commun 3A      tronc commun 3A  \n4    POK&MON\\n(FB-LP)\\n218                 None                 None  \n\n[5 rows x 44 columns]",
      "text/html": "<div>\n<style scoped>\n    .dataframe tbody tr th:only-of-type {\n        vertical-align: middle;\n    }\n\n    .dataframe tbody tr th {\n        vertical-align: top;\n    }\n\n    .dataframe thead th {\n        text-align: right;\n    }\n</style>\n<table border=\"1\" class=\"dataframe\">\n  <thead>\n    <tr style=\"text-align: right;\">\n      <th></th>\n      <th>NaN</th>\n      <th>NaN</th>\n      <th>Semaine,du</th>\n      <th>Semaine,au</th>\n      <th>Lundi,8h-9h</th>\n      <th>Lundi,9h-10h</th>\n      <th>Lundi,10h-11h</th>\n      <th>Lundi,11h-12h15</th>\n      <th>Lundi,14h-15h</th>\n      <th>Lundi,15h-16h</th>\n      <th>...</th>\n      <th>Jeudi,16h15-17h15</th>\n      <th>Jeudi,17h15-18h15</th>\n      <th>Vendredi,8h-9h</th>\n      <th>Vendredi,9h-10h</th>\n      <th>Vendredi,10h-11h</th>\n      <th>Vendredi,11h-12h15</th>\n      <th>Vendredi,14h-15h</th>\n      <th>Vendredi,15h-16h</th>\n      <th>Vendredi,16h15-17h15</th>\n      <th>Vendredi,17h15-18h15</th>\n    </tr>\n  </thead>\n  <tbody>\n    <tr>\n      <th>0</th>\n      <td>Ors</td>\n      <td>NaN</td>\n      <td>Semaine</td>\n      <td>Semaine</td>\n      <td>Lundi</td>\n      <td>Lundi</td>\n      <td>Lundi</td>\n      <td>Lundi</td>\n      <td>Lundi</td>\n      <td>Lundi</td>\n      <td>...</td>\n      <td>Jeudi</td>\n      <td>Jeudi</td>\n      <td>Vendredi</td>\n      <td>Vendredi</td>\n      <td>Vendredi</td>\n      <td>Vendredi</td>\n      <td>Vendredi</td>\n      <td>Vendredi</td>\n      <td>Vendredi</td>\n      <td>Vendredi</td>\n    </tr>\n    <tr>\n      <th>1</th>\n      <td>None</td>\n      <td>NaN</td>\n      <td>du</td>\n      <td>au</td>\n      <td>8h-9h</td>\n      <td>9h-10h</td>\n      <td>10h-11h</td>\n      <td>11h-12h15</td>\n      <td>14h-15h</td>\n      <td>15h-16h</td>\n      <td>...</td>\n      <td>16h15-17h15</td>\n      <td>17h15-18h15</td>\n      <td>8h-9h</td>\n      <td>9h-10h</td>\n      <td>10h-11h</td>\n      <td>11h-12h15</td>\n      <td>14h-15h</td>\n      <td>15h-16h</td>\n      <td>16h15-17h15</td>\n      <td>17h15-18h15</td>\n    </tr>\n    <tr>\n      <th>2</th>\n      <td>temps 1</td>\n      <td>NaN</td>\n      <td>2023-08-28 00:00:00</td>\n      <td>2023-09-01 00:00:00</td>\n      <td>None</td>\n      <td>None</td>\n      <td>None</td>\n      <td>None</td>\n      <td>None</td>\n      <td>None</td>\n      <td>...</td>\n      <td>None</td>\n      <td>None</td>\n      <td>None</td>\n      <td>None</td>\n      <td>None</td>\n      <td>None</td>\n      <td>rentrée\\nadministrative</td>\n      <td>rentrée\\nadministrative</td>\n      <td>None</td>\n      <td>None</td>\n    </tr>\n    <tr>\n      <th>3</th>\n      <td>temps 1</td>\n      <td>NaN</td>\n      <td>2023-09-04 00:00:00</td>\n      <td>2023-09-08 00:00:00</td>\n      <td>tronc commun 3A</td>\n      <td>tronc commun 3A</td>\n      <td>tronc commun 3A</td>\n      <td>tronc commun 3A</td>\n      <td>tronc commun 3A</td>\n      <td>tronc commun 3A</td>\n      <td>...</td>\n      <td>tronc commun 3A</td>\n      <td>tronc commun 3A</td>\n      <td>tronc commun 3A</td>\n      <td>tronc commun 3A</td>\n      <td>tronc commun 3A</td>\n      <td>tronc commun 3A</td>\n      <td>tronc commun 3A</td>\n      <td>tronc commun 3A</td>\n      <td>tronc commun 3A</td>\n      <td>tronc commun 3A</td>\n    </tr>\n    <tr>\n      <th>4</th>\n      <td>temps 1</td>\n      <td>1.0</td>\n      <td>2023-09-11 00:00:00</td>\n      <td>2023-09-15 00:00:00</td>\n      <td>None</td>\n      <td>None</td>\n      <td>Bonjour !\\n(FB--LP)\\n218</td>\n      <td>Bonjour !\\n(FB--LP)\\n218</td>\n      <td>TC1 : Agilité\\n(Florian Magnani)\\nVisio/218</td>\n      <td>TC1 : Agilité\\n(Florian Magnani)\\nVisio/218</td>\n      <td>...</td>\n      <td>None</td>\n      <td>None</td>\n      <td>TC1 : Service Design (Démarrage à 8h45)\\n(Ores...</td>\n      <td>TC1 : Service Design (Démarrage à 8h45)\\n(Ores...</td>\n      <td>TC1 : Service Design (Démarrage à 8h45)\\n(Ores...</td>\n      <td>TC1 : Service Design (Démarrage à 8h45)\\n(Ores...</td>\n      <td>POK&amp;MON\\n(FB-LP)\\n218</td>\n      <td>POK&amp;MON\\n(FB-LP)\\n218</td>\n      <td>None</td>\n      <td>None</td>\n    </tr>\n  </tbody>\n</table>\n<p>5 rows × 44 columns</p>\n</div>"
     },
     "execution_count": 2,
     "metadata": {},
     "output_type": "execute_result"
    }
   ],
   "source": [
    "df.head()"
   ],
   "metadata": {
    "collapsed": false,
    "ExecuteTime": {
     "end_time": "2023-12-27T14:19:07.743474Z",
     "start_time": "2023-12-27T14:19:07.697304Z"
    }
   },
   "id": "6c5d0d721d8a3f4a",
   "execution_count": 2
  },
  {
   "cell_type": "code",
   "outputs": [
    {
     "data": {
      "text/plain": "       NaN  NaN           Semaine,du           Semaine,au      Lundi,8h-9h  \\\n0      Ors  NaN              Semaine              Semaine            Lundi   \n1     None  NaN                   du                   au            8h-9h   \n2  temps 1  NaN  2023-08-28 00:00:00  2023-09-01 00:00:00             None   \n3  temps 1  NaN  2023-09-04 00:00:00  2023-09-08 00:00:00  tronc commun 3A   \n4  temps 1  1.0  2023-09-11 00:00:00  2023-09-15 00:00:00             None   \n\n      Lundi,9h-10h             Lundi,10h-11h           Lundi,11h-12h15  \\\n0            Lundi                     Lundi                     Lundi   \n1           9h-10h                   10h-11h                 11h-12h15   \n2             None                      None                      None   \n3  tronc commun 3A           tronc commun 3A           tronc commun 3A   \n4             None  Bonjour !\\n(FB--LP)\\n218  Bonjour !\\n(FB--LP)\\n218   \n\n                                 Lundi,14h-15h  \\\n0                                        Lundi   \n1                                      14h-15h   \n2                                         None   \n3                              tronc commun 3A   \n4  TC1 : Agilité\\n(Florian Magnani)\\nVisio/218   \n\n                                 Lundi,15h-16h  ... Jeudi,16h15-17h15  \\\n0                                        Lundi  ...             Jeudi   \n1                                      15h-16h  ...       16h15-17h15   \n2                                         None  ...              None   \n3                              tronc commun 3A  ...   tronc commun 3A   \n4  TC1 : Agilité\\n(Florian Magnani)\\nVisio/218  ...              None   \n\n  Jeudi,17h15-18h15                                     Vendredi,8h-9h  \\\n0             Jeudi                                           Vendredi   \n1       17h15-18h15                                              8h-9h   \n2              None                                               None   \n3   tronc commun 3A                                    tronc commun 3A   \n4              None  TC1 : Service Design (Démarrage à 8h45)\\n(Ores...   \n\n                                     Vendredi,9h-10h  \\\n0                                           Vendredi   \n1                                             9h-10h   \n2                                               None   \n3                                    tronc commun 3A   \n4  TC1 : Service Design (Démarrage à 8h45)\\n(Ores...   \n\n                                    Vendredi,10h-11h  \\\n0                                           Vendredi   \n1                                            10h-11h   \n2                                               None   \n3                                    tronc commun 3A   \n4  TC1 : Service Design (Démarrage à 8h45)\\n(Ores...   \n\n                                  Vendredi,11h-12h15         Vendredi,14h-15h  \\\n0                                           Vendredi                 Vendredi   \n1                                          11h-12h15                  14h-15h   \n2                                               None  rentrée\\nadministrative   \n3                                    tronc commun 3A          tronc commun 3A   \n4  TC1 : Service Design (Démarrage à 8h45)\\n(Ores...    POK&MON\\n(FB-LP)\\n218   \n\n          Vendredi,15h-16h Vendredi,16h15-17h15 Vendredi,17h15-18h15  \n0                 Vendredi             Vendredi             Vendredi  \n1                  15h-16h          16h15-17h15          17h15-18h15  \n2  rentrée\\nadministrative                 None                 None  \n3          tronc commun 3A      tronc commun 3A      tronc commun 3A  \n4    POK&MON\\n(FB-LP)\\n218                 None                 None  \n\n[5 rows x 44 columns]",
      "text/html": "<div>\n<style scoped>\n    .dataframe tbody tr th:only-of-type {\n        vertical-align: middle;\n    }\n\n    .dataframe tbody tr th {\n        vertical-align: top;\n    }\n\n    .dataframe thead th {\n        text-align: right;\n    }\n</style>\n<table border=\"1\" class=\"dataframe\">\n  <thead>\n    <tr style=\"text-align: right;\">\n      <th></th>\n      <th>NaN</th>\n      <th>NaN</th>\n      <th>Semaine,du</th>\n      <th>Semaine,au</th>\n      <th>Lundi,8h-9h</th>\n      <th>Lundi,9h-10h</th>\n      <th>Lundi,10h-11h</th>\n      <th>Lundi,11h-12h15</th>\n      <th>Lundi,14h-15h</th>\n      <th>Lundi,15h-16h</th>\n      <th>...</th>\n      <th>Jeudi,16h15-17h15</th>\n      <th>Jeudi,17h15-18h15</th>\n      <th>Vendredi,8h-9h</th>\n      <th>Vendredi,9h-10h</th>\n      <th>Vendredi,10h-11h</th>\n      <th>Vendredi,11h-12h15</th>\n      <th>Vendredi,14h-15h</th>\n      <th>Vendredi,15h-16h</th>\n      <th>Vendredi,16h15-17h15</th>\n      <th>Vendredi,17h15-18h15</th>\n    </tr>\n  </thead>\n  <tbody>\n    <tr>\n      <th>0</th>\n      <td>Ors</td>\n      <td>NaN</td>\n      <td>Semaine</td>\n      <td>Semaine</td>\n      <td>Lundi</td>\n      <td>Lundi</td>\n      <td>Lundi</td>\n      <td>Lundi</td>\n      <td>Lundi</td>\n      <td>Lundi</td>\n      <td>...</td>\n      <td>Jeudi</td>\n      <td>Jeudi</td>\n      <td>Vendredi</td>\n      <td>Vendredi</td>\n      <td>Vendredi</td>\n      <td>Vendredi</td>\n      <td>Vendredi</td>\n      <td>Vendredi</td>\n      <td>Vendredi</td>\n      <td>Vendredi</td>\n    </tr>\n    <tr>\n      <th>1</th>\n      <td>None</td>\n      <td>NaN</td>\n      <td>du</td>\n      <td>au</td>\n      <td>8h-9h</td>\n      <td>9h-10h</td>\n      <td>10h-11h</td>\n      <td>11h-12h15</td>\n      <td>14h-15h</td>\n      <td>15h-16h</td>\n      <td>...</td>\n      <td>16h15-17h15</td>\n      <td>17h15-18h15</td>\n      <td>8h-9h</td>\n      <td>9h-10h</td>\n      <td>10h-11h</td>\n      <td>11h-12h15</td>\n      <td>14h-15h</td>\n      <td>15h-16h</td>\n      <td>16h15-17h15</td>\n      <td>17h15-18h15</td>\n    </tr>\n    <tr>\n      <th>2</th>\n      <td>temps 1</td>\n      <td>NaN</td>\n      <td>2023-08-28 00:00:00</td>\n      <td>2023-09-01 00:00:00</td>\n      <td>None</td>\n      <td>None</td>\n      <td>None</td>\n      <td>None</td>\n      <td>None</td>\n      <td>None</td>\n      <td>...</td>\n      <td>None</td>\n      <td>None</td>\n      <td>None</td>\n      <td>None</td>\n      <td>None</td>\n      <td>None</td>\n      <td>rentrée\\nadministrative</td>\n      <td>rentrée\\nadministrative</td>\n      <td>None</td>\n      <td>None</td>\n    </tr>\n    <tr>\n      <th>3</th>\n      <td>temps 1</td>\n      <td>NaN</td>\n      <td>2023-09-04 00:00:00</td>\n      <td>2023-09-08 00:00:00</td>\n      <td>tronc commun 3A</td>\n      <td>tronc commun 3A</td>\n      <td>tronc commun 3A</td>\n      <td>tronc commun 3A</td>\n      <td>tronc commun 3A</td>\n      <td>tronc commun 3A</td>\n      <td>...</td>\n      <td>tronc commun 3A</td>\n      <td>tronc commun 3A</td>\n      <td>tronc commun 3A</td>\n      <td>tronc commun 3A</td>\n      <td>tronc commun 3A</td>\n      <td>tronc commun 3A</td>\n      <td>tronc commun 3A</td>\n      <td>tronc commun 3A</td>\n      <td>tronc commun 3A</td>\n      <td>tronc commun 3A</td>\n    </tr>\n    <tr>\n      <th>4</th>\n      <td>temps 1</td>\n      <td>1.0</td>\n      <td>2023-09-11 00:00:00</td>\n      <td>2023-09-15 00:00:00</td>\n      <td>None</td>\n      <td>None</td>\n      <td>Bonjour !\\n(FB--LP)\\n218</td>\n      <td>Bonjour !\\n(FB--LP)\\n218</td>\n      <td>TC1 : Agilité\\n(Florian Magnani)\\nVisio/218</td>\n      <td>TC1 : Agilité\\n(Florian Magnani)\\nVisio/218</td>\n      <td>...</td>\n      <td>None</td>\n      <td>None</td>\n      <td>TC1 : Service Design (Démarrage à 8h45)\\n(Ores...</td>\n      <td>TC1 : Service Design (Démarrage à 8h45)\\n(Ores...</td>\n      <td>TC1 : Service Design (Démarrage à 8h45)\\n(Ores...</td>\n      <td>TC1 : Service Design (Démarrage à 8h45)\\n(Ores...</td>\n      <td>POK&amp;MON\\n(FB-LP)\\n218</td>\n      <td>POK&amp;MON\\n(FB-LP)\\n218</td>\n      <td>None</td>\n      <td>None</td>\n    </tr>\n  </tbody>\n</table>\n<p>5 rows × 44 columns</p>\n</div>"
     },
     "metadata": {},
     "output_type": "display_data"
    }
   ],
   "source": [],
   "metadata": {
    "collapsed": false,
    "ExecuteTime": {
     "end_time": "2023-12-27T14:14:41.759313Z",
     "start_time": "2023-12-27T14:14:41.504649Z"
    }
   },
   "id": "cbbe194a92b45429",
   "execution_count": 11
  }
 ],
 "metadata": {
  "kernelspec": {
   "display_name": "Python 3",
   "language": "python",
   "name": "python3"
  },
  "language_info": {
   "codemirror_mode": {
    "name": "ipython",
    "version": 2
   },
   "file_extension": ".py",
   "mimetype": "text/x-python",
   "name": "python",
   "nbconvert_exporter": "python",
   "pygments_lexer": "ipython2",
   "version": "2.7.6"
  }
 },
 "nbformat": 4,
 "nbformat_minor": 5
}
